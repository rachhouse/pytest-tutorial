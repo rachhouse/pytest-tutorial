{
 "cells": [
  {
   "cell_type": "code",
   "execution_count": 1,
   "metadata": {},
   "outputs": [],
   "source": [
    "import pathlib\n",
    "import sys\n",
    "\n",
    "from pyvis.network import Network\n",
    "\n",
    "# add swapy parent dir to path\n",
    "sys.path.append(str(pathlib.Path.cwd().parent))\n",
    "\n",
    "from swapy import Swapy"
   ]
  },
  {
   "cell_type": "code",
   "execution_count": 2,
   "metadata": {},
   "outputs": [],
   "source": [
    "swapy = Swapy()"
   ]
  },
  {
   "cell_type": "code",
   "execution_count": 3,
   "metadata": {},
   "outputs": [
    {
     "name": "stdout",
     "output_type": "stream",
     "text": [
      "Requesting https://swapi.co/api\n"
     ]
    },
    {
     "data": {
      "text/html": [
       "\n",
       "        <iframe\n",
       "            width=\"1000\"\n",
       "            height=\"1000\"\n",
       "            src=\"example_swapi_universe_graph.html\"\n",
       "            frameborder=\"0\"\n",
       "            allowfullscreen\n",
       "        ></iframe>\n",
       "        "
      ],
      "text/plain": [
       "<IPython.lib.display.IFrame at 0x119ac3048>"
      ]
     },
     "execution_count": 3,
     "metadata": {},
     "output_type": "execute_result"
    }
   ],
   "source": [
    "net = Network(height=1000, width=1000, notebook=True)\n",
    "\n",
    "film_node_ids, film_node_labels, film_node_meta = [], [], []\n",
    "for film in swapy.get_all_cached_resources_of_type('films'):\n",
    "    film_node_ids.append('films-{}'.format(film['id']))\n",
    "    film_node_labels.append(film['title'])\n",
    "    film_node_meta.append(film['opening_crawl'])\n",
    "\n",
    "net.add_nodes(film_node_ids, label=film_node_labels, title=film_node_meta)\n",
    "\n",
    "\n",
    "people_node_ids, people_node_labels, people_node_color = [], [], []\n",
    "people_color = 'purple'\n",
    "for person in swapy.get_all_cached_resources_of_type('people'):\n",
    "    people_node_ids.append('people-{}'.format(person['id']))\n",
    "    people_node_labels.append(person['name'])\n",
    "    people_node_color.append(people_color)\n",
    "\n",
    "net.add_nodes(people_node_ids, label=people_node_labels, title=people_node_labels, color=people_node_color)\n",
    "\n",
    "\n",
    "for film2character in swapy.get_all_cached_relationships('films', 'characters'):\n",
    "    film_node_id = 'films-{}'.format(film2character['films'])\n",
    "    person_node_id = 'people-{}'.format(film2character['characters'])\n",
    "    net.add_edge(film_node_id, person_node_id)\n",
    "\n",
    "\n",
    "net.show('example_swapi_universe_graph.html')"
   ]
  },
  {
   "cell_type": "code",
   "execution_count": null,
   "metadata": {},
   "outputs": [],
   "source": []
  }
 ],
 "metadata": {
  "kernelspec": {
   "display_name": "python new-base",
   "language": "python",
   "name": "py-new-base"
  },
  "language_info": {
   "codemirror_mode": {
    "name": "ipython",
    "version": 3
   },
   "file_extension": ".py",
   "mimetype": "text/x-python",
   "name": "python",
   "nbconvert_exporter": "python",
   "pygments_lexer": "ipython3",
   "version": "3.7.3"
  }
 },
 "nbformat": 4,
 "nbformat_minor": 2
}
